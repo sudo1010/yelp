{
  "nbformat": 4,
  "nbformat_minor": 0,
  "metadata": {
    "colab": {
      "provenance": [],
      "gpuType": "T4"
    },
    "kernelspec": {
      "name": "python3",
      "display_name": "Python 3"
    },
    "language_info": {
      "name": "python"
    },
    "accelerator": "GPU",
    "gpuClass": "standard"
  },
  "cells": [
    {
      "cell_type": "markdown",
      "source": [
        "Name: Siddhi M. Pandit\n",
        "\n",
        "---\n",
        "Class: BE Computer\n",
        "\n",
        "---\n",
        "Roll: 9079\n",
        "\n",
        "---\n",
        "Asssignment 2:  Write a program to implement Parallel Bubble Sort and Merge sort using OpenMP. Use existing algorithms and measure the performance of sequential and parallel algorithms.\n"
      ],
      "metadata": {
        "id": "hsEoNbS4bEwf"
      }
    },
    {
      "cell_type": "markdown",
      "source": [
        "Sequential & Parallel Bubble Sort"
      ],
      "metadata": {
        "id": "Eg-VvRNRbHQf"
      }
    },
    {
      "cell_type": "code",
      "execution_count": 1,
      "metadata": {
        "colab": {
          "base_uri": "https://localhost:8080/"
        },
        "id": "CaS-sWAobD9P",
        "outputId": "026f22b9-ab63-44bc-a4d5-6aa70b90e507"
      },
      "outputs": [
        {
          "output_type": "stream",
          "name": "stdout",
          "text": [
            "Time taken by sequential bubble sort: 8.726119995117188e-05\n",
            "Time taken by parallel bubble sort: 0.6737954616546631\n"
          ]
        }
      ],
      "source": [
        "from numba import njit, prange\n",
        "import numpy as np\n",
        "import time\n",
        "\n",
        "@njit(parallel=True)\n",
        "def parallel_bubble_sort(arr):\n",
        "    n = len(arr)\n",
        "    for i in prange(n-1):\n",
        "        for j in prange(n-i-1):\n",
        "            if arr[j] > arr[j+1]:\n",
        "                arr[j], arr[j+1] = arr[j+1], arr[j]\n",
        "\n",
        "def sequential_bubble_sort(arr):\n",
        "    n = len(arr)\n",
        "    for i in range(n-1):\n",
        "        for j in range(n-i-1):\n",
        "            if arr[j] > arr[j+1]:\n",
        "                arr[j], arr[j+1] = arr[j+1], arr[j]\n",
        "\n",
        "arr = np.random.randint(0, 100000, size=10)\n",
        "\n",
        "start_time = time.time()\n",
        "sequential_bubble_sort(arr)\n",
        "end_time = time.time()\n",
        "print(\"Time taken by sequential bubble sort:\", end_time - start_time)\n",
        "\n",
        "start_time = time.time()\n",
        "parallel_bubble_sort(arr)\n",
        "end_time = time.time()\n",
        "print(\"Time taken by parallel bubble sort:\", end_time - start_time)"
      ]
    },
    {
      "cell_type": "markdown",
      "source": [
        "Sequential & Parallel Merge Sort"
      ],
      "metadata": {
        "id": "j-e-VU1PbTnQ"
      }
    },
    {
      "cell_type": "code",
      "source": [
        "import numpy as np\n",
        "import time\n",
        "import concurrent.futures as cf\n",
        "\n",
        "# Sequential merge sort function\n",
        "def merge_sort(arr):\n",
        "    if len(arr) > 1:\n",
        "        mid = len(arr) // 2\n",
        "        L = arr[:mid]\n",
        "        R = arr[mid:]\n",
        "\n",
        "        merge_sort(L)\n",
        "        merge_sort(R)\n",
        "\n",
        "        i = j = k = 0\n",
        "\n",
        "        while i < len(L) and j < len(R):\n",
        "            if L[i] < R[j]:\n",
        "                arr[k] = L[i]\n",
        "                i += 1\n",
        "            else:\n",
        "                arr[k] = R[j]\n",
        "                j += 1\n",
        "            k += 1\n",
        "\n",
        "        while i < len(L):\n",
        "            arr[k] = L[i]\n",
        "            i += 1\n",
        "            k += 1\n",
        "\n",
        "        while j < len(R):\n",
        "            arr[k] = R[j]\n",
        "            j += 1\n",
        "            k += 1\n",
        "\n",
        "# Parallel merge sort function\n",
        "def parallel_merge_sort(arr):\n",
        "    if len(arr) > 1:\n",
        "        mid = len(arr) // 2\n",
        "        L = arr[:mid]\n",
        "        R = arr[mid:]\n",
        "\n",
        "        with cf.ThreadPoolExecutor(max_workers=2) as executor:\n",
        "            futures = [executor.submit(parallel_merge_sort, L), executor.submit(parallel_merge_sort, R)]\n",
        "\n",
        "        L, R = futures[0].result(), futures[1].result()\n",
        "\n",
        "        i = j = k = 0\n",
        "\n",
        "        while i < len(L) and j < len(R):\n",
        "            if L[i] < R[j]:\n",
        "                arr[k] = L[i]\n",
        "                i += 1\n",
        "            else:\n",
        "                arr[k] = R[j]\n",
        "                j += 1\n",
        "            k += 1\n",
        "\n",
        "        while i < len(L):\n",
        "            arr[k] = L[i]\n",
        "            i += 1\n",
        "            k += 1\n",
        "\n",
        "        while j < len(R):\n",
        "            arr[k] = R[j]\n",
        "            j += 1\n",
        "            k += 1\n",
        "\n",
        "    return arr\n",
        "\n",
        "if __name__ == '__main__':\n",
        "    n = 10\n",
        "    arr = np.random.randint(0, 1000, n)\n",
        "\n",
        "    start = time.time()\n",
        "    merge_sort(arr)\n",
        "    end = time.time()\n",
        "    sequential_time = end - start\n",
        "    print(\"Sequential merge sort time: {:.6f} s\".format(sequential_time))\n",
        "\n",
        "    start = time.time()\n",
        "    sorted_arr = parallel_merge_sort(arr)\n",
        "    end = time.time()\n",
        "    parallel_time = end - start\n",
        "    print(\"Parallel merge sort time with 2 threads: {:.6f} s\".format(parallel_time))\n",
        "\n",
        "    print(\"Speedup: {:.2f}x\".format(sequential_time/parallel_time))\n"
      ],
      "metadata": {
        "colab": {
          "base_uri": "https://localhost:8080/"
        },
        "id": "NywCYxzSbUT4",
        "outputId": "83fadd6d-c5b7-4770-af49-73599e0a873c"
      },
      "execution_count": 2,
      "outputs": [
        {
          "output_type": "stream",
          "name": "stdout",
          "text": [
            "Sequential merge sort time: 0.000046 s\n",
            "Parallel merge sort time with 2 threads: 0.005628 s\n",
            "Speedup: 0.01x\n"
          ]
        }
      ]
    }
  ]
}