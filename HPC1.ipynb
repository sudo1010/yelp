{
  "nbformat": 4,
  "nbformat_minor": 0,
  "metadata": {
    "colab": {
      "provenance": [],
      "gpuType": "T4"
    },
    "kernelspec": {
      "name": "python3",
      "display_name": "Python 3"
    },
    "language_info": {
      "name": "python"
    },
    "accelerator": "GPU",
    "gpuClass": "standard"
  },
  "cells": [
    {
      "cell_type": "markdown",
      "source": [
        "Name: Siddhi M. Pandit\n",
        "\n",
        "---\n",
        "Class: BE Computer\n",
        "\n",
        "---\n",
        "Roll: 9079\n",
        "\n",
        "---\n",
        "Asssignment 1: Design and implement Parallel Breadth First Search and Depth First Search based on existing algorithms using OpenMP. Use a Tree or an undirected graph for BFS and DFS.\n",
        "\n",
        "\n",
        "\n"
      ],
      "metadata": {
        "id": "InKxohqbZ8-V"
      }
    },
    {
      "cell_type": "markdown",
      "source": [
        "Breadth First Search (BFS)"
      ],
      "metadata": {
        "id": "QxZ2meV-aAvU"
      }
    },
    {
      "cell_type": "code",
      "execution_count": 1,
      "metadata": {
        "colab": {
          "base_uri": "https://localhost:8080/"
        },
        "id": "prQLB9dzX-vX",
        "outputId": "06e5d973-4229-4232-9de7-859678b498bb"
      },
      "outputs": [
        {
          "output_type": "stream",
          "name": "stdout",
          "text": [
            "Sequential BFS:\n",
            "0  1  2  3  4  5  \n",
            "Elapsed time: 0.0002799034118652344\n",
            "Parallel BFS:\n",
            "0  1  2  3  4  5  \n",
            "Elapsed time: 0.010776758193969727\n"
          ]
        }
      ],
      "source": [
        "import queue\n",
        "import threading\n",
        "import time\n",
        "\n",
        "NUM_THREADS = 5 # no of threads\n",
        "\n",
        "def bfs(start, adj_list):\n",
        "    level = [-1] * len(adj_list)\n",
        "    visited = [False] * len(adj_list)\n",
        "\n",
        "    q = queue.Queue()\n",
        "    q.put(start)\n",
        "    level[start] = 0\n",
        "    visited[start] = True\n",
        "\n",
        "    while not q.empty():\n",
        "        u = q.get()\n",
        "        for v in adj_list[u]:\n",
        "            if not visited[v]:\n",
        "                visited[v] = True\n",
        "                level[v] = level[u] + 1\n",
        "                q.put(v)\n",
        "\n",
        "    for i in range(len(adj_list)):\n",
        "        if visited[i]:\n",
        "            print(i,\" \",end=\"\")\n",
        "\n",
        "def parallel_bfs(start, adj_list):\n",
        "    level = [-1] * len(adj_list)\n",
        "    visited = [False] * len(adj_list)\n",
        "\n",
        "    q = queue.Queue()\n",
        "    q.put(start)\n",
        "    level[start] = 0\n",
        "    visited[start] = True\n",
        "\n",
        "    def worker():\n",
        "        while not q.empty():\n",
        "            u = q.get()\n",
        "            for v in adj_list[u]:\n",
        "                if not visited[v]:\n",
        "                    visited[v] = True\n",
        "                    level[v] = level[u] + 1\n",
        "                    q.put(v)\n",
        "\n",
        "    threads = []\n",
        "    for i in range(NUM_THREADS):\n",
        "        t = threading.Thread(target=worker)\n",
        "        t.start()\n",
        "        threads.append(t)\n",
        "\n",
        "    for t in threads:\n",
        "        t.join()\n",
        "\n",
        "    for i in range(len(adj_list)):\n",
        "        if visited[i]:\n",
        "            print(i,\" \",end=\"\")\n",
        "\n",
        "adj_list = {\n",
        "    0: [1, 2],\n",
        "    1: [0, 3],\n",
        "    2: [0, 4],\n",
        "    3: [1, 5],\n",
        "    4: [2],\n",
        "    5: [3],\n",
        "}\n",
        "\n",
        "print(\"Sequential BFS:\")\n",
        "start_time = time.time()\n",
        "bfs(0, adj_list)\n",
        "print(\"\\nElapsed time:\", time.time() - start_time)\n",
        "\n",
        "print(\"Parallel BFS:\")\n",
        "start_time = time.time()\n",
        "parallel_bfs(0, adj_list)\n",
        "print(\"\\nElapsed time:\", time.time() - start_time)\n"
      ]
    },
    {
      "cell_type": "markdown",
      "source": [
        "Depth First Search (DFS)"
      ],
      "metadata": {
        "id": "Snj2NddeZ_Xd"
      }
    },
    {
      "cell_type": "code",
      "source": [
        "import threading\n",
        "import time\n",
        "\n",
        "NUM_THREADS = 5 \n",
        "\n",
        "def dfs(u, visited, adj_list):\n",
        "    visited[u] = True\n",
        "    for v in adj_list[u]:\n",
        "        if not visited[v]:\n",
        "            dfs(v, visited, adj_list)\n",
        "\n",
        "def parallel_dfs(start, adj_list):\n",
        "    visited = [False] * len(adj_list)\n",
        "\n",
        "    def worker(u):\n",
        "        dfs(u, visited, adj_list)\n",
        "\n",
        "    threads = []\n",
        "    for u in range(len(adj_list)):\n",
        "        if not visited[u]:\n",
        "            t = threading.Thread(target=worker, args=(u,))\n",
        "            t.start()\n",
        "            threads.append(t)\n",
        "\n",
        "    for t in threads:\n",
        "        t.join()\n",
        "\n",
        "    for i in range(len(adj_list)):\n",
        "        if visited[i]:\n",
        "            print(i,\" \",end=\"\")\n",
        "\n",
        "adj_list = {\n",
        "    0: [1, 2],\n",
        "    1: [0, 3],\n",
        "    2: [0, 4],\n",
        "    3: [1, 5],\n",
        "    4: [2],\n",
        "    5: [3],\n",
        "}\n",
        "\n",
        "print(\"Sequential DFS:\")\n",
        "start_time = time.time()\n",
        "dfs(0, [False] * len(adj_list), adj_list)\n",
        "print(\"Elapsed time:\", time.time() - start_time)\n",
        "\n",
        "print(\"Parallel DFS:\")\n",
        "start_time = time.time()\n",
        "parallel_dfs(0, adj_list)\n",
        "print(\"\\nElapsed time:\", time.time() - start_time)\n"
      ],
      "metadata": {
        "colab": {
          "base_uri": "https://localhost:8080/"
        },
        "id": "tDyX7eVrZvpM",
        "outputId": "4fd43906-a305-46dd-d434-28ebeb547440"
      },
      "execution_count": 2,
      "outputs": [
        {
          "output_type": "stream",
          "name": "stdout",
          "text": [
            "Sequential DFS:\n",
            "Elapsed time: 6.508827209472656e-05\n",
            "Parallel DFS:\n",
            "0  1  2  3  4  5  \n",
            "Elapsed time: 0.004153728485107422\n"
          ]
        }
      ]
    }
  ]
}