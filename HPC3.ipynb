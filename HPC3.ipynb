{
  "nbformat": 4,
  "nbformat_minor": 0,
  "metadata": {
    "colab": {
      "provenance": []
    },
    "kernelspec": {
      "name": "python3",
      "display_name": "Python 3"
    },
    "language_info": {
      "name": "python"
    }
  },
  "cells": [
    {
      "cell_type": "markdown",
      "source": [
        "Name: Siddhi M. Pandit\n",
        "\n",
        "---\n",
        "Class: BE Computer\n",
        "\n",
        "---\n",
        "Roll: 9079\n",
        "\n",
        "---\n",
        "Asssignment 3: Implement Min, Max, Sum and Average operations using Parallel Reduction."
      ],
      "metadata": {
        "id": "EhGLwzdlcoLn"
      }
    },
    {
      "cell_type": "code",
      "execution_count": 3,
      "metadata": {
        "colab": {
          "base_uri": "https://localhost:8080/"
        },
        "id": "WBhQt20HcWQ0",
        "outputId": "191ec15c-a711-434e-f1f0-62421b5e8443"
      },
      "outputs": [
        {
          "output_type": "stream",
          "name": "stdout",
          "text": [
            "Minimum is: 10\n",
            "Maximum is: 100\n",
            "Summation is: 550\n",
            "Average is: 55.0\n"
          ]
        }
      ],
      "source": [
        "import multiprocessing as mp\n",
        "\n",
        "def parallel_reduction(array, op):\n",
        "    num_processes = mp.cpu_count()\n",
        "    chunk_size = len(array) // num_processes\n",
        "    pool = mp.Pool(processes=num_processes)\n",
        "    \n",
        "    chunks = [array[i:i+chunk_size] for i in range(0, len(array), chunk_size)]\n",
        "    results = pool.map(op, chunks)\n",
        "    \n",
        "    pool.close()\n",
        "    pool.join()\n",
        "    \n",
        "    return op(results)\n",
        "\n",
        "def reduce_sum(array):\n",
        "    return sum(array)\n",
        "\n",
        "def reduce_min(array):\n",
        "    return min(array)\n",
        "\n",
        "def reduce_max(array):\n",
        "    return max(array)\n",
        "\n",
        "def reduce_avg(array):\n",
        "    return sum(array)/len(array)\n",
        "\n",
        "if __name__ == '__main__':\n",
        "    array = [10, 20, 30, 40, 50, 60, 70, 80, 90, 100]\n",
        "    \n",
        "    print(\"Minimum is:\", parallel_reduction(array, reduce_min)) # 10\n",
        "    print(\"Maximum is:\", parallel_reduction(array, reduce_max)) # 100\n",
        "    print(\"Summation is:\", parallel_reduction(array, reduce_sum)) # 550\n",
        "    print(\"Average is:\", parallel_reduction(array, reduce_avg)) # 55\n"
      ]
    }
  ]
}